{
 "cells": [
  {
   "cell_type": "markdown",
   "metadata": {
    "collapsed": true
   },
   "source": [
    "此程旨在練習文字探勘的簡單機器學習，目標是分析對電影的評論，預測什麼字是正向用詞、什麼是負向用詞，並且分別使用K-Means及RandomForest測試誰的精準度高，主觀猜測RandomForest應該比K-Means精準度高"
   ]
  },
  {
   "cell_type": "markdown",
   "metadata": {},
   "source": [
    "以下為資料的前處理，包括把特定不需要的字元拿掉、轉小寫、還原成原形動詞......"
   ]
  },
  {
   "cell_type": "code",
   "execution_count": 5,
   "metadata": {},
   "outputs": [
    {
     "name": "stdout",
     "output_type": "stream",
     "text": [
      "[nltk_data] Downloading package stopwords to /Users/apple/nltk_data...\n",
      "[nltk_data]   Package stopwords is already up-to-date!\n"
     ]
    }
   ],
   "source": [
    "# Import librarys(some parts of nltk is too old, if want to download now may deal with some problems)\n",
    "import numpy as np\n",
    "import re  \n",
    "import nltk  \n",
    "from sklearn.datasets import load_files  \n",
    "nltk.download('stopwords')  \n",
    "import pickle  \n",
    "from nltk.corpus import stopwords\n",
    "\n",
    "# This dataset is downloaded from opensource\n",
    "movie_data = load_files(r\"txt_sentoken\")  \n",
    "X, y = movie_data.data, movie_data.target\n",
    "\n",
    "\n",
    "documents = []\n",
    "\n",
    "for sen in range(0, len(X)):  \n",
    "    # Remove all the special characters\n",
    "    document = re.sub(r'\\W', ' ', str(X[sen]))\n",
    "\n",
    "    # remove all single characters\n",
    "    document = re.sub(r'\\s+[a-zA-Z]\\s+', ' ', document)\n",
    "\n",
    "    # Remove single characters from the start\n",
    "    document = re.sub(r'\\^[a-zA-Z]\\s+', ' ', document) \n",
    "\n",
    "    # Substituting multiple spaces with single space\n",
    "    document = re.sub(r'\\s+', ' ', document, flags=re.I)\n",
    "\n",
    "    # Removing prefixed 'b'\n",
    "    document = re.sub(r'^b\\s+', '', document)\n",
    "\n",
    "    # Converting to Lowercase\n",
    "    document = document.lower()\n",
    "\n",
    "    # Lemmatization\n",
    "    document = document.split()\n",
    "    from nltk.stem import WordNetLemmatizer\n",
    "    stemmer = WordNetLemmatizer()\n",
    "    \n",
    "    document = [stemmer.lemmatize(word) for word in document]\n",
    "    document = ' '.join(document)\n",
    "\n",
    "    documents.append(document)\n",
    "    \n",
    "\n",
    " "
   ]
  },
  {
   "cell_type": "markdown",
   "metadata": {},
   "source": [
    "K-means\n",
    "進行10次training，觀察K-means本身取點數差異對精準度的影響（取點數方法按照一般建議）"
   ]
  },
  {
   "cell_type": "code",
   "execution_count": 6,
   "metadata": {},
   "outputs": [
    {
     "name": "stdout",
     "output_type": "stream",
     "text": [
      "311\n",
      "312\n",
      "313\n",
      "314\n",
      "315\n",
      "316\n",
      "317\n",
      "318\n",
      "319\n",
      "320\n"
     ]
    },
    {
     "data": {
      "image/png": "[encoded data removed]",
      "text/plain": [
       "<matplotlib.figure.Figure at 0x110cccf98>"
      ]
     },
     "metadata": {},
     "output_type": "display_data"
    },
    {
     "name": "stdout",
     "output_type": "stream",
     "text": [
      "1\n",
      "fin\n"
     ]
    }
   ],
   "source": [
    "from sklearn.feature_extraction.text import CountVectorizer  \n",
    "vectorizer = CountVectorizer(max_features=1500, min_df=5, max_df=0.7, stop_words=stopwords.words('english'))  \n",
    "X = vectorizer.fit_transform(documents).toarray()  \n",
    "\n",
    "#Term frequency = (Number of Occurrences of a word)/(Total words in the document)  \n",
    "#IDF(word) = Log((Total number of documents)/(Number of documents containing the word))  \n",
    "\n",
    "from sklearn.model_selection import train_test_split  \n",
    "X_train, X_test, y_train, y_test = train_test_split(X, y, test_size=0.2, random_state=0)\n",
    "\n",
    "from sklearn import metrics\n",
    "from sklearn import neighbors\n",
    "import matplotlib.pyplot as plt\n",
    "arange = np.arange(round(0.2 * X_train.shape[0]) - 9, round(0.2 * X_train.shape[0]) + 1)\n",
    "accuracies = []\n",
    "for i in arange:\n",
    "    print(i)\n",
    "    clf = neighbors.KNeighborsClassifier(n_neighbors = i)\n",
    "    iris_clf = clf.fit(X_train, y_train)\n",
    "    y_test_predicted = iris_clf.predict(X_test)\n",
    "    accuracy = metrics.accuracy_score(y_test, y_test_predicted)\n",
    "    accuracies.append(accuracy)\n",
    "\n",
    "# 視覺化\n",
    "plt.scatter(arange, accuracies)\n",
    "plt.show()\n",
    "appr_k = accuracies.index(max(accuracies)) + 1\n",
    "print(appr_k)\n",
    "print(\"fin\")"
   ]
  },
  {
   "cell_type": "markdown",
   "metadata": {},
   "source": [
    "RandomForest"
   ]
  },
  {
   "cell_type": "code",
   "execution_count": 4,
   "metadata": {},
   "outputs": [
    {
     "name": "stdout",
     "output_type": "stream",
     "text": [
      "[[158  50]\n",
      " [ 99  93]]\n",
      "             precision    recall  f1-score   support\n",
      "\n",
      "          0       0.61      0.76      0.68       208\n",
      "          1       0.65      0.48      0.56       192\n",
      "\n",
      "avg / total       0.63      0.63      0.62       400\n",
      "\n",
      "0.6275\n"
     ]
    }
   ],
   "source": [
    "from sklearn import neighbors\n",
    "from sklearn.ensemble import RandomForestClassifier\n",
    "classifier = RandomForestClassifier(n_estimators=1000, random_state=0)  \n",
    "classifier = neighbors.KNeighborsClassifier()\n",
    "classifier.fit(X_train, y_train) \n",
    "y_pred = classifier.predict(X_test)  \n",
    "\n",
    "from sklearn.metrics import classification_report, confusion_matrix, accuracy_score\n",
    "\n",
    "print(confusion_matrix(y_test,y_pred))  \n",
    "print(classification_report(y_test,y_pred))  \n",
    "print(accuracy_score(y_test, y_pred)) "
   ]
  },
  {
   "cell_type": "markdown",
   "metadata": {},
   "source": [
    "結論\n",
    "1. RandomForest(0.6275)在這個情況下比K-means大約在0.53的精準度高\n",
    "2. K-means在取了一定數量的點後，取越多點精準度越低\n",
    "3. 簡單未調整過的機器學習精準度並不高，個人認為6成不足以有足夠的代表性"
   ]
  }
 ],
 "metadata": {
  "kernelspec": {
   "display_name": "Python 3",
   "language": "python",
   "name": "python3"
  },
  "language_info": {
   "codemirror_mode": {
    "name": "ipython",
    "version": 3
   },
   "file_extension": ".py",
   "mimetype": "text/x-python",
   "name": "python",
   "nbconvert_exporter": "python",
   "pygments_lexer": "ipython3",
   "version": "3.6.1"
  }
 },
 "nbformat": 4,
 "nbformat_minor": 2
}
